{
 "cells": [
  {
   "cell_type": "markdown",
   "metadata": {},
   "source": [
    "![](https://upload.wikimedia.org/wikipedia/en/b/bb/Titanic_breaks_in_half.jpg)"
   ]
  },
  {
   "cell_type": "markdown",
   "metadata": {},
   "source": [
    "# Project 1: [Titanic](https://www.kaggle.com/c/titanic/data)\n",
    "---\n",
    "\n",
    "The sinking of the RMS Titanic is one of the most infamous shipwrecks in history.  On April 15, 1912, during her maiden voyage, the Titanic sank after colliding with an iceberg, killing 1502 out of 2224 passengers and crew. This sensational tragedy shocked the international community and led to better safety regulations for ships.\n",
    "\n",
    "One of the reasons that the shipwreck led to such loss of life was that there were not enough lifeboats for the passengers and crew. Although there was some element of luck involved in surviving the sinking, some groups of people were more likely to survive than others, such as women, children, and the upper-class.\n",
    "\n",
    "In this project, you will exercise your skills with loading data, python data structures, and Pandas to identify charactaristics of Titanic survivors!\n",
    "\n",
    "---\n",
    "#### Your goals should be to:\n",
    "* Practice python programming including loops, conditionals, types, functions, and data structures\n",
    "* Start thinking critically about manipulating, organizing, and interpreting data\n",
    "* Troubleshoot errors\n",
    "\n",
    "---\n",
    "#### Getting Started:\n",
    "* **fork** the repository on git.generalassemb.ly\n",
    "* **clone** your forked repo\n",
    "\n",
    "---\n",
    "#### Submission:\n",
    "* You should be working on a **fork** of the GA project one repository. \n",
    "* Use **git** to manage versions of your project. Make sure to `add`, `commit`, and `push` your changes to **your fork** of the github \n",
    "* Submit a link to your project repository in the submission form by **Friday, 9/29 11:59 PM**. You will then receive the solutions.\n",
    "* Create a copy of your original notebook (file > make a copy in jupyter notebook)\n",
    "* In the copy, use the solutions to correct your work. Make sure to take note of your successes and struggles. Did you learn anything new from correcting your work?\n",
    "* Submit the corrected version by **Sunday, 10/1 11:59 PM** to receive instructor feedback on your work. ***Projects submitted after this deadline will not receive instructor feedback.***"
   ]
  },
  {
   "cell_type": "markdown",
   "metadata": {},
   "source": [
    "### Considerations:\n",
    "\n",
    "* You will be generating long data strutures- avoid displaying the whole thing. Display just the first or last few entries and look at the length or shape to check whether your code gives you back what you want and expect.\n",
    "* Make functions whenever possiblle!\n",
    "* Be explicit with your naming. You may forget what `this_list` is, but you will have an idea of what `passenger_fare_list` is. Variable naming will help you in the long run!\n",
    "* Don't forget about tab autocomplete!\n",
    "* Use markdown cells to document your planning, thoughts, and results. \n",
    "* Delete cells you will not include in your final submission\n",
    "* Try to solve your own problems using this framework:\n",
    "  1. Check your spelling\n",
    "  2. Google your errors. Is it on stackoverflow?\n",
    "  3. Ask your classmates\n",
    "  4. Ask a TA or instructor\n",
    "* Do not include errors or stack traces (fix them!)"
   ]
  },
  {
   "cell_type": "markdown",
   "metadata": {},
   "source": [
    "# 1. Using the `with open()` method in the `csv` library, load the titanic dataset into a list of lists.\n",
    "\n",
    "* The `type()` of your dataset should be `list`\n",
    "* The `type()` of each element in your dataset should also be `list`\n",
    "* The `len()` of your dataset should be 892 (892 rows, including the header)\n",
    "* The `len()` of each row element in your dataset should be have a `len()` of 12\n",
    "* Print out the first 3 rows including the header to check your data."
   ]
  },
  {
   "cell_type": "code",
   "execution_count": 38,
   "metadata": {},
   "outputs": [],
   "source": [
    "import csv\n",
    "from IPython.display import display\n",
    "import numpy as np"
   ]
  },
  {
   "cell_type": "code",
   "execution_count": 39,
   "metadata": {},
   "outputs": [],
   "source": [
    "raw_data = []\n",
    "\n",
    "with open('titanic.csv', 'r') as f:\n",
    "    reader = csv.reader(f)\n",
    "    for row in reader:\n",
    "        raw_data.append(row)"
   ]
  },
  {
   "cell_type": "code",
   "execution_count": 40,
   "metadata": {},
   "outputs": [
    {
     "name": "stdout",
     "output_type": "stream",
     "text": [
      "The type of this dataset is: <class 'list'>\n",
      "The length of this dataset is: 892\n",
      "The length of an entry in this dataset is: 12\n",
      "The first three entries in this dataset are: [['PassengerId', 'Survived', 'Pclass', 'Name', 'Sex', 'Age', 'SibSp', 'Parch', 'Ticket', 'Fare', 'Cabin', 'Embarked'], ['1', '0', '3', 'Braund, Mr. Owen Harris', 'male', '22', '1', '0', 'A/5 21171', '7.25', '', 'S'], ['2', '1', '1', 'Cumings, Mrs. John Bradley (Florence Briggs Thayer)', 'female', '38', '1', '0', 'PC 17599', '71.2833', 'C85', 'C']]\n"
     ]
    }
   ],
   "source": [
    "def data_list_summary(data = raw_data):\n",
    "    print(\"The type of this dataset is: \" + str(type(data)))\n",
    "    print(\"The length of this dataset is: \" + str(len(data)))\n",
    "    print(\"The length of an entry in this dataset is: \" + str(len(data[0])))\n",
    "    print(\"The first three entries in this dataset are: \" + str(data[0:3]))\n",
    "data_list_summary()"
   ]
  },
  {
   "cell_type": "markdown",
   "metadata": {},
   "source": [
    "# 2. Separate the first header row from the rest of your dataset. \n",
    "\n",
    "* The header should be a list of the column names\n",
    "* The data should be the rest of your data\n",
    "* Display the header and the first row of the dataset zipped together using `zip`\n",
    "* Your result should look like...\n",
    "\n",
    "\n",
    "```\n",
    "[('PassengerId', '1'),\n",
    " ('Survived', '0'),\n",
    " ('Pclass', '3'),\n",
    " ...\n",
    " ('Embarked', 'S')]\n",
    " ```"
   ]
  },
  {
   "cell_type": "code",
   "execution_count": 41,
   "metadata": {},
   "outputs": [
    {
     "name": "stdout",
     "output_type": "stream",
     "text": [
      "['1', '0', '3', 'Braund, Mr. Owen Harris', 'male', '22', '1', '0', 'A/5 21171', '7.25', '', 'S']\n",
      "[1.0, 0.0, 3.0, 'Braund, Mr. Owen Harris', 'male', 22.0, 1.0, 0.0, 'A/5 21171', 7.25, '', 'S']\n"
     ]
    }
   ],
   "source": [
    "# Your code here\n",
    "header = raw_data[0]\n",
    "data = raw_data[1::]\n",
    "print(data[0])\n",
    "new_pd = []\n",
    "def try_float(string): #Encapsulates a try-except in an expression.\n",
    "    try: x = float(string)\n",
    "    except: x = string\n",
    "    return x\n",
    "data = [list([try_float(k) for k in i]) for i in data]\n",
    "print(data[0])"
   ]
  },
  {
   "cell_type": "markdown",
   "metadata": {},
   "source": [
    "# 3. Using a `for` loop, load your data into a `dict` called `data_dict`.\n",
    "\n",
    "* The keys of your `data_dict` should be `PassengerId`\n",
    "* The values of your `data_dict` should be dictionaries...\n",
    "  * Each of these dictionaries should reperesent a column value within a row\n",
    "  * The keys should be the names of the columns\n",
    "  * The values should be the values of that column\n",
    "  \n",
    "The beginning of your `data_dict` should look like: \n",
    "\n",
    "    {'1': {'Age': '22',\n",
    "      'Cabin': '',\n",
    "      'Embarked': 'S',\n",
    "      'Fare': '7.25',\n",
    "      'Name': 'Braund, Mr. Owen Harris',\n",
    "      'Parch': '0',\n",
    "      'Pclass': '3',\n",
    "      'Sex': 'male',\n",
    "      'SibSp': '1',\n",
    "      'Survived': '0',\n",
    "      'Ticket': 'A/5 21171'},\n",
    "     '10': {'Age': '14',\n",
    "      'Cabin': '',\n",
    "      'Embarked': 'C',\n",
    "      'Fare': '30.0708',\n",
    "      'Name': 'Nasser, Mrs. Nicholas (Adele Achem)',\n",
    "      'Parch': '0',\n",
    "      'Pclass': '2',\n",
    "      'Sex': 'female',\n",
    "      'SibSp': '1',\n",
    "      'Survived': '1',\n",
    "      'Ticket': '237736'},\n",
    "      ...\n",
    "      }"
   ]
  },
  {
   "cell_type": "code",
   "execution_count": 42,
   "metadata": {},
   "outputs": [
    {
     "name": "stdout",
     "output_type": "stream",
     "text": [
      "{'PassengerId': 1.0, 'Survived': 0.0, 'Pclass': 3.0, 'Name': 'Braund, Mr. Owen Harris', 'Sex': 'male', 'Age': 22.0, 'SibSp': 1.0, 'Parch': 0.0, 'Ticket': 'A/5 21171', 'Fare': 7.25, 'Cabin': '', 'Embarked': 'S'}\n"
     ]
    }
   ],
   "source": [
    "data_dict = {}\n",
    "for j in data:\n",
    "    data_dict[j[0]] = {}\n",
    "    for i in range(0, len(j)):\n",
    "        data_dict[j[0]][header[i]] = j[i]\n",
    "print(data_dict[1])"
   ]
  },
  {
   "cell_type": "markdown",
   "metadata": {},
   "source": [
    "# 4. Repeat step 3 using a dictionary comprehension.\n",
    "\n",
    "* Using `==`, check if your `data_dict` from your `for` loop is the same as the one from your dictionary comprehension."
   ]
  },
  {
   "cell_type": "code",
   "execution_count": 43,
   "metadata": {},
   "outputs": [],
   "source": [
    "# Your code here\n",
    "data_dict_comp = {j[0]:{header[i]:j[i] for i in range(0,len(j))} for j in data}"
   ]
  },
  {
   "cell_type": "markdown",
   "metadata": {},
   "source": [
    "# 5. Transform your `data_dict` to be oriented by column and call it `data_dict_columns`\n",
    "\n",
    "* Currently, our `data_dict` is oriented by row, indexed by `\"PassengerId\"`. \n",
    "* Transform your data so that the title of each row is a key, the values are of type `list` and represent column vectors.\n",
    "\n",
    "If you display `data_dict_columns`, the beginning should look like...\n",
    "\n",
    "    {'Age': ['25',\n",
    "      '36',\n",
    "      '24',\n",
    "      '40',\n",
    "      '45',\n",
    "      '2',\n",
    "      '24',\n",
    "      '28',\n",
    "      '33',\n",
    "      '26',\n",
    "      '39',\n",
    "      ..."
   ]
  },
  {
   "cell_type": "code",
   "execution_count": 44,
   "metadata": {},
   "outputs": [],
   "source": [
    "import numpy as np"
   ]
  },
  {
   "cell_type": "code",
   "execution_count": 45,
   "metadata": {},
   "outputs": [
    {
     "name": "stdout",
     "output_type": "stream",
     "text": [
      "[ 1.  2.  3.]\n",
      "['22.0' '38.0' '26.0']\n",
      "<class 'numpy.float64'>\n",
      "1.0\n",
      "<class 'numpy.float64'>\n",
      "0.0\n",
      "<class 'numpy.float64'>\n",
      "3.0\n",
      "<class 'numpy.str_'>\n",
      "Braund, Mr. Owen Harris\n",
      "<class 'numpy.str_'>\n",
      "male\n",
      "<class 'numpy.str_'>\n",
      "22.0\n",
      "<class 'numpy.float64'>\n",
      "1.0\n",
      "<class 'numpy.float64'>\n",
      "0.0\n",
      "<class 'numpy.str_'>\n",
      "A/5 21171\n",
      "<class 'numpy.float64'>\n",
      "7.25\n",
      "<class 'numpy.str_'>\n",
      "\n",
      "<class 'numpy.str_'>\n",
      "S\n"
     ]
    }
   ],
   "source": [
    "data_dict_columns = {j:np.array([data_dict[i][j] for i in data_dict]) for j in header}\n",
    "print(data_dict_columns['PassengerId'][0:3])\n",
    "print(data_dict_columns['Age'][0:3])\n",
    "for i in data_dict_columns.keys():\n",
    "    print(type(data_dict_columns[i][0]))\n",
    "    print(data_dict_columns[i][0])"
   ]
  },
  {
   "cell_type": "markdown",
   "metadata": {},
   "source": [
    "# 6. Data Types\n",
    "\n",
    "What is the current `type` of each column? What do you think the data type of each column *should* be? The data types in Python are...\n",
    "\n",
    "* `int`\n",
    "* `float`\n",
    "* `str`\n",
    "* `bool`\n",
    "* `tuple`\n",
    "* `list`\n",
    "* `dict`\n",
    "* `set`\n",
    "\n",
    "In a markdown cell, describe what each column represents and what the `type` of each value should be. **Extra:** If you want to be fancy, use a [markdown table](https://github.com/adam-p/markdown-here/wiki/Markdown-Cheatsheet#tables) to display your results."
   ]
  },
  {
   "cell_type": "markdown",
   "metadata": {},
   "source": [
    "| Column  | Type | What I Think |\n",
    "|---------|:----:|--------------|\n",
    "| PassID  | Float| Integer?     |\n",
    "|Survived | Float| Boolean      |\n",
    "| PClass  | Float| Categor.Int(but float is okay)  |\n",
    "| Name    | Str  | String       |\n",
    "| Sex     | Str  | String/Bool  |\n",
    "| Age     | Str  | Float        |\n",
    "| SibSp   | Float| Int          |\n",
    "| Parch   | Float| Int          |\n",
    "| Ticket  | Str  | String       |\n",
    "| Fare    | Float| Float        |\n",
    "| Cabin   | Str  | String/Int   |\n",
    "| Embarked| Str  | String       |"
   ]
  },
  {
   "cell_type": "markdown",
   "metadata": {},
   "source": [
    "# 7. Transform each column to the appropriate type if needed.\n",
    "\n",
    "Build a function called `transform_column` that takes arguments for a `data_dict`, `column_name`, and `datatype`, and use it to transform the columns that need transformation.\n",
    "\n",
    "**NOTE:** There are values in this dataset that cannot be directly cast to a numerical value. Use `if/then` or `try/except` statements to handle errors. \n",
    "\n",
    "**To help identify potential sources of errors, explore the `set` of values in each column.**"
   ]
  },
  {
   "cell_type": "code",
   "execution_count": 46,
   "metadata": {},
   "outputs": [
    {
     "name": "stdout",
     "output_type": "stream",
     "text": [
      "['1.0' '2.0' '3.0']\n",
      "[ 1.  2.  3.]\n"
     ]
    },
    {
     "data": {
      "text/plain": [
       "array([ 1.,  2.,  3.])"
      ]
     },
     "execution_count": 46,
     "metadata": {},
     "output_type": "execute_result"
    }
   ],
   "source": [
    "x = np.array([\"1.0\", \"2.0\", \"3.0\"])\n",
    "print(x)\n",
    "x = x.astype(float)\n",
    "print(x)\n",
    "x"
   ]
  },
  {
   "cell_type": "code",
   "execution_count": 47,
   "metadata": {},
   "outputs": [
    {
     "name": "stdout",
     "output_type": "stream",
     "text": [
      "PassengerId\n",
      "[  1.   2.   3.   4.   5.   6.   7.   8.   9.  10.  11.  12.  13.  14.  15.\n",
      "  16.  17.  18.  19.  20.]\n",
      "Survived\n",
      "[ 0.  1.  1.  1.  0.  0.  0.  0.  1.  1.  1.  1.  0.  0.  0.  1.  0.  1.\n",
      "  0.  1.]\n",
      "Pclass\n",
      "[ 3.  1.  3.  1.  3.  3.  1.  3.  3.  2.  3.  1.  3.  3.  3.  2.  3.  2.\n",
      "  3.  3.]\n",
      "Name\n",
      "['Braund, Mr. Owen Harris'\n",
      " 'Cumings, Mrs. John Bradley (Florence Briggs Thayer)'\n",
      " 'Heikkinen, Miss. Laina' 'Futrelle, Mrs. Jacques Heath (Lily May Peel)'\n",
      " 'Allen, Mr. William Henry' 'Moran, Mr. James' 'McCarthy, Mr. Timothy J'\n",
      " 'Palsson, Master. Gosta Leonard'\n",
      " 'Johnson, Mrs. Oscar W (Elisabeth Vilhelmina Berg)'\n",
      " 'Nasser, Mrs. Nicholas (Adele Achem)' 'Sandstrom, Miss. Marguerite Rut'\n",
      " 'Bonnell, Miss. Elizabeth' 'Saundercock, Mr. William Henry'\n",
      " 'Andersson, Mr. Anders Johan' 'Vestrom, Miss. Hulda Amanda Adolfina'\n",
      " 'Hewlett, Mrs. (Mary D Kingcome) ' 'Rice, Master. Eugene'\n",
      " 'Williams, Mr. Charles Eugene'\n",
      " 'Vander Planke, Mrs. Julius (Emelia Maria Vandemoortele)'\n",
      " 'Masselmani, Mrs. Fatima']\n",
      "Sex\n",
      "['male' 'female' 'female' 'female' 'male' 'male' 'male' 'male' 'female'\n",
      " 'female' 'female' 'female' 'male' 'male' 'female' 'female' 'male' 'male'\n",
      " 'female' 'female']\n",
      "Age\n",
      "['22.0' '38.0' '26.0' '35.0' '35.0' '' '54.0' '2.0' '27.0' '14.0' '4.0'\n",
      " '58.0' '20.0' '39.0' '14.0' '55.0' '2.0' '' '31.0' '']\n",
      "SibSp\n",
      "[ 1.  1.  0.  1.  0.  0.  0.  3.  0.  1.  1.  0.  0.  1.  0.  0.  4.  0.\n",
      "  1.  0.]\n",
      "Parch\n",
      "[ 0.  0.  0.  0.  0.  0.  0.  1.  2.  0.  1.  0.  0.  5.  0.  0.  1.  0.\n",
      "  0.  0.]\n",
      "Ticket\n",
      "['A/5 21171' 'PC 17599' 'STON/O2. 3101282' '113803.0' '373450.0' '330877.0'\n",
      " '17463.0' '349909.0' '347742.0' '237736.0' 'PP 9549' '113783.0'\n",
      " 'A/5. 2151' '347082.0' '350406.0' '248706.0' '382652.0' '244373.0'\n",
      " '345763.0' '2649.0']\n",
      "Fare\n",
      "[  7.25    71.2833   7.925   53.1      8.05     8.4583  51.8625  21.075\n",
      "  11.1333  30.0708  16.7     26.55     8.05    31.275    7.8542  16.\n",
      "  29.125   13.      18.       7.225 ]\n",
      "Cabin\n",
      "['' 'C85' '' 'C123' '' '' 'E46' '' '' '' 'G6' 'C103' '' '' '' '' '' '' ''\n",
      " '']\n",
      "Embarked\n",
      "['S' 'C' 'S' 'S' 'S' 'Q' 'S' 'S' 'S' 'C' 'S' 'S' 'S' 'S' 'S' 'S' 'Q' 'S'\n",
      " 'S' 'C']\n"
     ]
    }
   ],
   "source": [
    "for i in data_dict_columns:\n",
    "    print(i)\n",
    "    print(data_dict_columns[i][0:20])"
   ]
  },
  {
   "cell_type": "code",
   "execution_count": 87,
   "metadata": {},
   "outputs": [
    {
     "name": "stdout",
     "output_type": "stream",
     "text": [
      "[22.0, 38.0, 26.0, 35.0, 35.0, nan, 54.0, 2.0, 27.0, 14.0]\n"
     ]
    }
   ],
   "source": [
    "def transform_column(column_name, datatype = float, data_dict = data_dict_columns):\n",
    "    if(datatype == None): #if no datatype, check if there are multiple types.\n",
    "        x = []\n",
    "        for i in data_dict[column_name]:\n",
    "            x.append(type(i))\n",
    "        xset = set(x)\n",
    "        print(len(xset))\n",
    "        if(len(xset) > 1):\n",
    "            print(xset)\n",
    "    if(datatype != None): #if there is a datatype, convert to it. I.e., multifunctional.\n",
    "        x = []\n",
    "        for i in data_dict[column_name]:\n",
    "            try:\n",
    "                x.append(datatype(i)) #if you can convert it, convert it\n",
    "            except:\n",
    "                if(len(str(i)) == 0): #if you can't convert it because it's empty, NaN it.\n",
    "                    x.append(np.NaN) \n",
    "        data_dict[column_name] = x\n",
    "\n",
    "print(data_dict_columns[\"Age\"][0:10])\n",
    "transform_column(\"Age\", float)"
   ]
  },
  {
   "cell_type": "markdown",
   "metadata": {},
   "source": [
    "# 8. Build functions to calculate the mean, sample standard deviation, and median of a list of ints or floats. Use `scipy.stats.mode` or build your own mode function!\n",
    "\n",
    "\n",
    "If you filled any missing values with `np.NaN`, you may need to handle that in your functions (look up `np.isnan()`).\n",
    "\n",
    "If building a `mode` function is too difficult, you import mode from `scipy.stats` using `from scipy.stats import mode`.\n",
    "\n",
    "**Optional:**  Build a function for calculating the Mode that returns the mode value *and* the count of that value. Mode is tricky, so start by building a function that counts the occurances of each value. You may also need to sort using a `key` with a `lambda function` inside. You may also find a `defaultdict` useful."
   ]
  },
  {
   "cell_type": "markdown",
   "metadata": {},
   "source": [
    "#### Other Functions ####"
   ]
  },
  {
   "cell_type": "code",
   "execution_count": 49,
   "metadata": {},
   "outputs": [],
   "source": [
    "def cleaned_list(data_list, datatype = float, print_error = False):\n",
    "    error = []; new_list = []\n",
    "    for i in data_list:\n",
    "        if np.isnan(i) == False:\n",
    "            try:\n",
    "                new_list.append(datatype(i))\n",
    "            except:\n",
    "                error.append(i)\n",
    "                \n",
    "    if print_error == True & len(error) > 0:\n",
    "        print(\"Erroneous Values:\")\n",
    "        print(set(error))\n",
    "    \n",
    "    return new_list"
   ]
  },
  {
   "cell_type": "code",
   "execution_count": 50,
   "metadata": {},
   "outputs": [],
   "source": [
    "def merge_sort(data_list_original):\n",
    "    data_list = list(data_list_original)\n",
    "    if len(data_list) <= 1: #if this list has only one item, return the list\n",
    "        return data_list\n",
    "    m = int(len(data_list)/2) #find the splitting point: 7/2 = 3\n",
    "    dl_one = merge_sort(data_list[:m]) #so list one has 0:3, 3 items long\n",
    "    dl_two = merge_sort(data_list[m:]) #list two has 3:7, 4 items long\n",
    "    length = m; store = [];\n",
    "    \n",
    "    while(length > 0): #as long as neither list is empty\n",
    "        #extract values\n",
    "        i, j = dl_one[0], dl_two[0]\n",
    "        if i < j: #if dl_one's item is more suitable\n",
    "            store.append(i) #append it to the back of the storage list\n",
    "            dl_one.pop(0) #remove it from its home list by popping the back\n",
    "        else: store.append(j); dl_two.pop(0); #otherwise, do the same to the other list.\n",
    "        #refresh loop-break variable\n",
    "        if len(dl_one) < len(dl_two):  #if list1 is shorter, its length is the new counter.\n",
    "            length = len(dl_one)\n",
    "        else: length = len(dl_two) #otherwise the other one's length is.\n",
    "            \n",
    "    #append the non-empty list to the storage list, thus preserving all values.\n",
    "    if len(dl_one) < len(dl_two): store.extend(dl_two[:])\n",
    "    else: store.extend(dl_one[:])\n",
    "    return store"
   ]
  },
  {
   "cell_type": "code",
   "execution_count": 54,
   "metadata": {},
   "outputs": [],
   "source": [
    "#merge_sort(cleaned_list(data_dict_columns[\"Age\"]))"
   ]
  },
  {
   "cell_type": "markdown",
   "metadata": {},
   "source": [
    "Mean"
   ]
  },
  {
   "cell_type": "code",
   "execution_count": 55,
   "metadata": {},
   "outputs": [],
   "source": [
    "def this_mean(data_list):\n",
    "    new_list = cleaned_list(data_list)\n",
    "    tsum = 0.0; tnum = len(new_list);\n",
    "    for i in new_list: \n",
    "        tsum += i\n",
    "    return tsum/tnum\n"
   ]
  },
  {
   "cell_type": "markdown",
   "metadata": {},
   "source": [
    "Standard Deviation"
   ]
  },
  {
   "cell_type": "code",
   "execution_count": 56,
   "metadata": {},
   "outputs": [],
   "source": [
    "def this_std(data_list):\n",
    "    new_list = cleaned_list(data_list); \n",
    "    n_minus_one = len(new_list)-1; sigma = 0.0; mean = this_mean(data_list);\n",
    "    \n",
    "    for i in new_list:\n",
    "        sigma += (i - mean)**2\n",
    "    return np.sqrt(sigma/n_minus_one)\n"
   ]
  },
  {
   "cell_type": "markdown",
   "metadata": {},
   "source": [
    "Median"
   ]
  },
  {
   "cell_type": "code",
   "execution_count": 57,
   "metadata": {},
   "outputs": [],
   "source": [
    "def this_median(data_list):\n",
    "    new_list = cleaned_list(data_list);\n",
    "    new_list = merge_sort(new_list);\n",
    "    return new_list[int(len(new_list)/2)]"
   ]
  },
  {
   "cell_type": "markdown",
   "metadata": {},
   "source": [
    "Mode"
   ]
  },
  {
   "cell_type": "code",
   "execution_count": 58,
   "metadata": {},
   "outputs": [],
   "source": [
    "def this_mode(data_list):\n",
    "    new_list = cleaned_list(data_list); count_dict = {};\n",
    "    for i in new_list:\n",
    "        if i in count_dict.keys(): count_dict[i] += 1\n",
    "        else: count_dict[i] = 1\n",
    "    biggest = list(count_dict.keys())[0]\n",
    "    for i in count_dict:\n",
    "        if count_dict[i] > count_dict[biggest]:\n",
    "            biggest = i\n",
    "    return biggest"
   ]
  },
  {
   "cell_type": "code",
   "execution_count": 59,
   "metadata": {},
   "outputs": [
    {
     "name": "stdout",
     "output_type": "stream",
     "text": [
      "255.904334804\n",
      "83.2\n",
      "255.904334804\n",
      "83.2\n"
     ]
    }
   ],
   "source": [
    "random_list = [5,1,3,7,9,0,24,87,111, np.nan, np.nan, 1000,-1,-2,0,0,4]\n",
    "print(this_std(random_list))\n",
    "print(this_mean(random_list))\n",
    "random_list2 = [5,1,3,7,9,0,24,87,111, 1000,-1,-2,0,0,4]\n",
    "print(this_std(random_list2))\n",
    "print(this_mean(random_list2))"
   ]
  },
  {
   "cell_type": "markdown",
   "metadata": {},
   "source": [
    "# 9. Summary Statistics of Numerical Columns\n",
    "\n",
    "For numerical columns, what is the mean, standard deviation, mean, and mode for that data? Which measure of central tendency is the most descriptive of each column? Why? Explain your answer in a markdown cell."
   ]
  },
  {
   "cell_type": "code",
   "execution_count": 60,
   "metadata": {},
   "outputs": [
    {
     "data": {
      "text/plain": [
       "{'Age': {'mean': 29.69911764705882,\n",
       "  'median': 28.0,\n",
       "  'mode': 24.0,\n",
       "  'std': 14.526497332334044},\n",
       " 'Fare': {'mean': 32.2042079685746,\n",
       "  'median': 14.4542,\n",
       "  'mode': 8.05,\n",
       "  'std': 49.693428597180905},\n",
       " 'Parch': {'mean': 0.38159371492704824,\n",
       "  'median': 0.0,\n",
       "  'mode': 0.0,\n",
       "  'std': 0.80605722112995593},\n",
       " 'PassengerId': {'mean': 446.0,\n",
       "  'median': 446.0,\n",
       "  'mode': 1.0,\n",
       "  'std': 257.3538420152301},\n",
       " 'Pclass': {'mean': 2.308641975308642,\n",
       "  'median': 3.0,\n",
       "  'mode': 3.0,\n",
       "  'std': 0.83607124097705132},\n",
       " 'SibSp': {'mean': 0.5230078563411896,\n",
       "  'median': 0.0,\n",
       "  'mode': 0.0,\n",
       "  'std': 1.1027434322934275},\n",
       " 'Survived': {'mean': 0.3838383838383838,\n",
       "  'median': 0.0,\n",
       "  'mode': 0.0,\n",
       "  'std': 0.48659245426485848}}"
      ]
     },
     "execution_count": 60,
     "metadata": {},
     "output_type": "execute_result"
    }
   ],
   "source": [
    "def summary_stats_dict(data_dict_columns = data_dict_columns):\n",
    "    numeric_cols = []\n",
    "    for i in data_dict_columns:\n",
    "        try: \n",
    "            float(data_dict_columns[i][0])\n",
    "            numeric_cols.append(i)\n",
    "        except: pass\n",
    "    summary_stats_dict = {}\n",
    "    for i in numeric_cols:\n",
    "        temp_list = data_dict_columns[i]\n",
    "        summary_stats_dict[i] = {\"mean\" : this_mean(temp_list), \n",
    "                             \"std\" : this_std(temp_list), \n",
    "                             \"median\" : this_median(temp_list),\n",
    "                             \"mode\" : this_mode(temp_list)}\n",
    "\n",
    "    return summary_stats_dict\n",
    "summary_stats_dict = summary_stats_dict()\n",
    "summary_stats_dict"
   ]
  },
  {
   "cell_type": "markdown",
   "metadata": {},
   "source": [
    "For age, mean and median are relatively close, which means that the mean is probably good enough. The difference between them in combination with the relatively low mode means that there are probably a few elderly people pulling the average upward. The high std would seem to mean that the age may be fairly well spread, however.\n",
    "\n",
    "Fare is obviously highly skewed upwards, with a mean significantly higher than the median and a rather low mode. So median is probably more useful.\n",
    "\n",
    "Parch and SibSp are both probably categorical variables, but can be regarded numerically. It's notable that both have a mode of 0, indicating a large number of people were single adults. Their standard deviations are both ~1, similar to their increment, though a bit below it because more people were 0 than anything above it.\n",
    "\n",
    "The Pclass notably had both a median and a mode of 3.0, and a mean relatively close to it, indicating a large number of people were 3rd class passengers. The standard deviation is somewhat brought down by the 2 and 1's on the ship, as well.\n",
    "\n",
    "The survived rate has a mean of .38, indicating (afaik) 38% of people lived. The median and mode are both 0, to be expected when < 50% of people survived. The same goes for a std of .48."
   ]
  },
  {
   "cell_type": "markdown",
   "metadata": {},
   "source": [
    "# 10. Splitting the Data to Predicting Survival\n",
    "\n",
    "For all the passengers in the dataset, the mean survival rate is around .38 (38% of the passengers survived). From our data, we may be able to profile who survived and who didn't!\n",
    "\n",
    "Split the data by pclass. Does the class a passenger was in affect survivability? You can do this by:\n",
    "* Creating a list of `True` and `False` values conditional on a column's value\n",
    "* Taking the mean of the `Survived` column where those values are `True`"
   ]
  },
  {
   "cell_type": "code",
   "execution_count": 63,
   "metadata": {},
   "outputs": [
    {
     "name": "stdout",
     "output_type": "stream",
     "text": [
      "[False, True, False, True, False]\n",
      "[False, False, False, False, False]\n",
      "[True, False, True, False, True]\n"
     ]
    }
   ],
   "source": [
    "split_pclass_dict_of_lists = {j:[i == j for i in data_dict_columns[\"Pclass\"]] \n",
    "                              for j in set(data_dict_columns[\"Pclass\"])}\n",
    "print(split_pclass_dict_of_lists[1.0][0:5])\n",
    "print(split_pclass_dict_of_lists[2.0][0:5])\n",
    "print(split_pclass_dict_of_lists[3.0][0:5])"
   ]
  },
  {
   "cell_type": "code",
   "execution_count": 64,
   "metadata": {},
   "outputs": [
    {
     "name": "stdout",
     "output_type": "stream",
     "text": [
      "[0, 1, 0, 1, 0, 0, 0, 0, 0, 0]\n",
      "[[1.0, 0.1526374859708193], [2.0, 0.09764309764309764], [3.0, 0.1335578002244669]]\n"
     ]
    }
   ],
   "source": [
    "pclass_survival = {j:[1 if data_dict_columns[\"Survived\"][i] == split_pclass_dict_of_lists[j][i] \n",
    " == True else 0 for i in range(len(data_dict_columns[\"Survived\"]))] \n",
    "                   for j in set(data_dict_columns[\"Pclass\"])}\n",
    "print(pclass_survival[1.0][0:10])\n",
    "\n",
    "n = len(data_dict_columns[\"Pclass\"]); mean_list = [];\n",
    "for pclass_split in pclass_survival:\n",
    "    liv = sum(pclass_survival[pclass_split])\n",
    "    mean = liv/n\n",
    "    mean_list.append([pclass_split, mean])\n",
    "print(mean_list)"
   ]
  },
  {
   "cell_type": "markdown",
   "metadata": {},
   "source": [
    "\n",
    "# 11. Independent Work\n",
    "\n",
    "Use the techniques from step 10 to make different conditional splits in the `Survived` column. Can you find a combination of splits that maximizes the survival rate?"
   ]
  },
  {
   "cell_type": "code",
   "execution_count": 65,
   "metadata": {},
   "outputs": [
    {
     "data": {
      "text/plain": [
       "{'Age': [3.3049545350321274,\n",
       "  7.662903734732339,\n",
       "  12.020852934432554,\n",
       "  16.378802134132769,\n",
       "  20.736751333832981,\n",
       "  25.094700533533196,\n",
       "  29.452649733233411,\n",
       "  33.810598932933623,\n",
       "  38.168548132633831,\n",
       "  42.526497332334053,\n",
       "  46.884446532034268,\n",
       "  51.242395731734476,\n",
       "  55.600344931434691,\n",
       "  59.958294131134913,\n",
       "  64.316243330835121,\n",
       "  68.674192530535336,\n",
       "  73.032141730235537,\n",
       "  77.390090929935752],\n",
       " 'Fare': [4.5155142805638331,\n",
       "  19.423542859718118,\n",
       "  34.33157143887238,\n",
       "  49.239600018026643,\n",
       "  64.147628597180926,\n",
       "  79.055657176335217,\n",
       "  93.963685755489479,\n",
       "  108.87171433464374,\n",
       "  123.77974291379805,\n",
       "  138.68777149295232,\n",
       "  153.59580007210656,\n",
       "  168.50382865126085,\n",
       "  183.41185723041508,\n",
       "  198.31988580956943],\n",
       " 'Parch': {0.0, 1.0, 2.0, 3.0, 4.0, 5.0, 6.0},\n",
       " 'Pclass': {1.0, 2.0, 3.0},\n",
       " 'Sex': {'female', 'male'},\n",
       " 'SibSp': {0.0, 1.0, 2.0, 3.0, 4.0, 5.0, 8.0}}"
      ]
     },
     "execution_count": 65,
     "metadata": {},
     "output_type": "execute_result"
    }
   ],
   "source": [
    "def return_split_dict(data_dict_columns = data_dict_columns):\n",
    "    #Add summary stats dict call here?\n",
    "    split_set_dict = {};\n",
    "    for i in ['Parch', 'Pclass', 'Sex', 'SibSp']:\n",
    "        split_set_dict[i] = set(data_dict_columns[i])\n",
    "    for i in ['Age', 'Fare']:\n",
    "        sortlist = merge_sort(cleaned_list(data_dict_columns[i]))\n",
    "        minnum = sortlist[0]; maxnum = sortlist[-1];\n",
    "        std, median = summary_stats_dict[i]['std'], summary_stats_dict[i]['median']\n",
    "        split_set_dict[i] = [median + std*j for j in np.arange(-2.0, 4, 0.3) if minnum < (median+std*j) < maxnum]\n",
    "        #print(minnum)\n",
    "    return split_set_dict\n",
    "return_split_dict()\n"
   ]
  },
  {
   "cell_type": "code",
   "execution_count": 66,
   "metadata": {},
   "outputs": [],
   "source": [
    "def split_dict_of_listed_bools(split_dict_of_lists = return_split_dict()):\n",
    "    return {k:{j:[i == j for i in data_dict_columns[k]] for j in split_dict_of_lists[k]} for k in split_dict_of_lists}"
   ]
  },
  {
   "cell_type": "code",
   "execution_count": 67,
   "metadata": {},
   "outputs": [],
   "source": [
    "#x = split_dict_of_listed_bools()\n",
    "#for i in x:\n",
    "#    print(len(x[i]))\n",
    "#    for j in x[i]:\n",
    "#        print(len(x[i][j]))"
   ]
  },
  {
   "cell_type": "code",
   "execution_count": null,
   "metadata": {},
   "outputs": [
    {
     "ename": "KeyboardInterrupt",
     "evalue": "",
     "output_type": "error",
     "traceback": [
      "\u001b[0;31m---------------------------------------------------------------------------\u001b[0m",
      "\u001b[0;31mKeyboardInterrupt\u001b[0m                         Traceback (most recent call last)",
      "\u001b[0;32m<ipython-input-102-c035cac5559a>\u001b[0m in \u001b[0;36m<module>\u001b[0;34m()\u001b[0m\n\u001b[1;32m     38\u001b[0m                             \u001b[0mnew_combo_list\u001b[0m\u001b[0;34m.\u001b[0m\u001b[0mappend\u001b[0m\u001b[0;34m(\u001b[0m\u001b[0;34m(\u001b[0m\u001b[0mtemp_list\u001b[0m\u001b[0;34m,\u001b[0m \u001b[0;34m(\u001b[0m\u001b[0ma\u001b[0m\u001b[0;34m,\u001b[0m \u001b[0mb\u001b[0m\u001b[0;34m,\u001b[0m \u001b[0mc\u001b[0m\u001b[0;34m,\u001b[0m \u001b[0md\u001b[0m\u001b[0;34m,\u001b[0m \u001b[0me\u001b[0m\u001b[0;34m,\u001b[0m \u001b[0mf\u001b[0m\u001b[0;34m)\u001b[0m\u001b[0;34m)\u001b[0m\u001b[0;34m)\u001b[0m\u001b[0;34m\u001b[0m\u001b[0m\n\u001b[1;32m     39\u001b[0m     \u001b[0;32mreturn\u001b[0m \u001b[0mnew_combo_list\u001b[0m\u001b[0;34m\u001b[0m\u001b[0m\n\u001b[0;32m---> 40\u001b[0;31m \u001b[0mconjugated_split\u001b[0m\u001b[0;34m(\u001b[0m\u001b[0;34m)\u001b[0m\u001b[0;34m\u001b[0m\u001b[0m\n\u001b[0m",
      "\u001b[0;32m<ipython-input-102-c035cac5559a>\u001b[0m in \u001b[0;36mconjugated_split\u001b[0;34m(dict_listed_bools)\u001b[0m\n\u001b[1;32m     32\u001b[0m                                     \u001b[0mdict_listed_bools\u001b[0m\u001b[0;34m[\u001b[0m\u001b[0;34m'Pclass'\u001b[0m\u001b[0;34m]\u001b[0m\u001b[0;34m[\u001b[0m\u001b[0md\u001b[0m\u001b[0;34m]\u001b[0m\u001b[0;34m[\u001b[0m\u001b[0mi\u001b[0m\u001b[0;34m]\u001b[0m \u001b[0;34m==\u001b[0m\u001b[0;34m\u001b[0m\u001b[0m\n\u001b[1;32m     33\u001b[0m                                     \u001b[0mdict_listed_bools\u001b[0m\u001b[0;34m[\u001b[0m\u001b[0;34m'Sex'\u001b[0m\u001b[0;34m]\u001b[0m\u001b[0;34m[\u001b[0m\u001b[0me\u001b[0m\u001b[0;34m]\u001b[0m\u001b[0;34m[\u001b[0m\u001b[0mi\u001b[0m\u001b[0;34m]\u001b[0m \u001b[0;34m==\u001b[0m\u001b[0;34m\u001b[0m\u001b[0m\n\u001b[0;32m---> 34\u001b[0;31m                                     dict_listed_bools['SibSp'][f][i]):\n\u001b[0m\u001b[1;32m     35\u001b[0m                                     \u001b[0mtemp_list\u001b[0m\u001b[0;34m.\u001b[0m\u001b[0mappend\u001b[0m\u001b[0;34m(\u001b[0m\u001b[0;32mTrue\u001b[0m\u001b[0;34m)\u001b[0m\u001b[0;34m\u001b[0m\u001b[0m\n\u001b[1;32m     36\u001b[0m                                 \u001b[0;32melse\u001b[0m\u001b[0;34m:\u001b[0m\u001b[0;34m\u001b[0m\u001b[0m\n",
      "\u001b[0;31mKeyboardInterrupt\u001b[0m: "
     ]
    }
   ],
   "source": [
    "####!!!!!!!!\n",
    "####!!!!!!!!    WHENEVER I RUN THIS MY AWS ACCOUNT FREEZES SO I HAVE NO IDEA IF IT WORKS ~~~~\n",
    "####!!!!!BUT I HAVE CONFIDENCE IN MY PROGRAMMING SKILLS AND ASSUME IT DOES, EXPLANATION INSIDE\n",
    "\n",
    "def conjugated_split(dict_listed_bools = split_dict_of_listed_bools()):\n",
    "    split_dict = return_split_dict()\n",
    "    catnum = range(len(dict_listed_bools)); #print(catnum);\n",
    "    combolists = []\n",
    "    for k in split_dict:\n",
    "        combolists.append((k, len(split_dict[k]), split_dict[k]))\n",
    "    #a = this number in age\n",
    "    #b = this list in fare\n",
    "    #c = this list in parch\n",
    "    #d = this list in pclass\n",
    "    #e = this list in sex\n",
    "    #f = this list in sibsp\n",
    "    #create a new list where, if all of the above are true, it's true and false otherwise\n",
    "    #repeat this for a. inside that repeat it for b. inside that repeat it for c. and so forth.\n",
    "    #The end result is all potential combinations of selected splits for each of the categories.\n",
    "    new_combo_list = []\n",
    "    for a in split_dict['Age']:\n",
    "        for b in split_dict['Fare']:\n",
    "            for c in split_dict['Parch']:\n",
    "                for d in split_dict['Pclass']:\n",
    "                    for e in split_dict['Sex']:\n",
    "                        for f in split_dict['SibSp']:\n",
    "                            temp_list = []\n",
    "                            for i in range(891):\n",
    "                                if (dict_listed_bools['Age'][a][i] == \n",
    "                                    dict_listed_bools['Fare'][b][i] == \n",
    "                                    dict_listed_bools['Parch'][c][i] == \n",
    "                                    dict_listed_bools['Pclass'][d][i] == \n",
    "                                    dict_listed_bools['Sex'][e][i] ==\n",
    "                                    dict_listed_bools['SibSp'][f][i]):\n",
    "                                    temp_list.append(True)\n",
    "                                else:\n",
    "                                    temp_list.append(False)\n",
    "                            new_combo_list.append((temp_list, (a, b, c, d, e, f)))\n",
    "    return new_combo_list\n",
    "conjugated_split()"
   ]
  },
  {
   "cell_type": "code",
   "execution_count": null,
   "metadata": {},
   "outputs": [],
   "source": [
    "def split_survival(conj_split = conjugated_split()):\n",
    "    return {j[1]:[1 if data_dict_columns[\"Survived\"][i] == j[0][i] else 0\n",
    "            for i in range(len(data_dict_columns[\"Survived\"]))]\n",
    "            for j in conj_split}\n",
    "    #return {k:{j:[1 if data_dict_columns[\"Survived\"][i] == \n",
    "                          #conj_split[k][j][i] == True \n",
    "                          #else 0 for i in range(len(data_dict_columns[\"Survived\"]))] \n",
    "                       #for j in split_dict_of_listed_bools[k]}\n",
    "                       #for k in split_dict_of_listed_bools}"
   ]
  },
  {
   "cell_type": "code",
   "execution_count": null,
   "metadata": {},
   "outputs": [],
   "source": [
    "def find_mean_survival(split_survival = survival_list_dict()):\n",
    "    for k in pclass_survival:\n",
    "        for j in pclass_survival[k]:\n",
    "            for i in pclass_survival[k][j]:\n",
    "                \n",
    "    n = len(data_dict_columns[\"Pclass\"]); mean_list = [];\n",
    "    for pclass_split in pclass_survival:\n",
    "        liv = sum(pclass_survival[pclass_split])\n",
    "        mean = liv/n\n",
    "        mean_list.append([pclass_split, mean])\n",
    "    print(mean_list)\n",
    "\n",
    "find_mean_survival()"
   ]
  },
  {
   "cell_type": "code",
   "execution_count": null,
   "metadata": {},
   "outputs": [],
   "source": [
    "data_dict_columns[\"Survived\"][0:10]"
   ]
  },
  {
   "cell_type": "markdown",
   "metadata": {},
   "source": [
    "# 12. Distributions\n",
    "\n",
    "### A) For each of your numeric features, use `pyplot` subplots to plot a hisogram for each feature.\n",
    "\n",
    "* Make sure to title each subplot.\n",
    "* If you get an error, it may be caused by `np.NaN`"
   ]
  },
  {
   "cell_type": "code",
   "execution_count": 89,
   "metadata": {},
   "outputs": [],
   "source": [
    "import matplotlib.pyplot as plt\n",
    "%matplotlib inline"
   ]
  },
  {
   "cell_type": "code",
   "execution_count": 93,
   "metadata": {},
   "outputs": [],
   "source": [
    "#numeric_cols = []\n",
    "#for i in data_dict_columns:\n",
    "#    try: \n",
    "#        float(data_dict_columns[i][0])\n",
    "#        numeric_cols.append(i)\n",
    "#    except: pass\n",
    "#for i in numeric_cols:"
   ]
  },
  {
   "cell_type": "code",
   "execution_count": 94,
   "metadata": {},
   "outputs": [],
   "source": [
    "#plt.hist(data_dict_columns['Age'])"
   ]
  },
  {
   "cell_type": "code",
   "execution_count": 95,
   "metadata": {},
   "outputs": [
    {
     "data": {
      "text/plain": [
       "(array([ 732.,  106.,   31.,    2.,   11.,    6.,    0.,    0.,    0.,    3.]),\n",
       " array([   0.     ,   51.23292,  102.46584,  153.69876,  204.93168,\n",
       "         256.1646 ,  307.39752,  358.63044,  409.86336,  461.09628,\n",
       "         512.3292 ]),\n",
       " <a list of 10 Patch objects>)"
      ]
     },
     "execution_count": 95,
     "metadata": {},
     "output_type": "execute_result"
    },
    {
     "data": {
      "image/png": "[encoded data removed]",
      "text/plain": [
       "<matplotlib.figure.Figure at 0x7f5c3398cba8>"
      ]
     },
     "metadata": {},
     "output_type": "display_data"
    }
   ],
   "source": [
    "plt.hist(data_dict_columns['Fare'])"
   ]
  },
  {
   "cell_type": "code",
   "execution_count": 96,
   "metadata": {},
   "outputs": [
    {
     "data": {
      "text/plain": [
       "(array([ 678.,  118.,    0.,   80.,    0.,    5.,    4.,    0.,    5.,    1.]),\n",
       " array([ 0. ,  0.6,  1.2,  1.8,  2.4,  3. ,  3.6,  4.2,  4.8,  5.4,  6. ]),\n",
       " <a list of 10 Patch objects>)"
      ]
     },
     "execution_count": 96,
     "metadata": {},
     "output_type": "execute_result"
    },
    {
     "data": {
      "image/png": "[encoded data removed]",
      "text/plain": [
       "<matplotlib.figure.Figure at 0x7f5c338da940>"
      ]
     },
     "metadata": {},
     "output_type": "display_data"
    }
   ],
   "source": [
    "plt.hist(data_dict_columns['Parch'])"
   ]
  },
  {
   "cell_type": "code",
   "execution_count": 97,
   "metadata": {},
   "outputs": [
    {
     "data": {
      "text/plain": [
       "(array([ 608.,  209.,   28.,   16.,    0.,   18.,    5.,    0.,    0.,    7.]),\n",
       " array([ 0. ,  0.8,  1.6,  2.4,  3.2,  4. ,  4.8,  5.6,  6.4,  7.2,  8. ]),\n",
       " <a list of 10 Patch objects>)"
      ]
     },
     "execution_count": 97,
     "metadata": {},
     "output_type": "execute_result"
    },
    {
     "data": {
      "image/png": "[encoded data removed]",
      "text/plain": [
       "<matplotlib.figure.Figure at 0x7f5c33d88588>"
      ]
     },
     "metadata": {},
     "output_type": "display_data"
    }
   ],
   "source": [
    "plt.hist(data_dict_columns['SibSp'])"
   ]
  },
  {
   "cell_type": "code",
   "execution_count": 98,
   "metadata": {},
   "outputs": [
    {
     "data": {
      "text/plain": [
       "(array([ 549.,    0.,    0.,    0.,    0.,    0.,    0.,    0.,    0.,  342.]),\n",
       " array([ 0. ,  0.1,  0.2,  0.3,  0.4,  0.5,  0.6,  0.7,  0.8,  0.9,  1. ]),\n",
       " <a list of 10 Patch objects>)"
      ]
     },
     "execution_count": 98,
     "metadata": {},
     "output_type": "execute_result"
    },
    {
     "data": {
      "image/png": "[encoded data removed]",
      "text/plain": [
       "<matplotlib.figure.Figure at 0x7f5c33948160>"
      ]
     },
     "metadata": {},
     "output_type": "display_data"
    }
   ],
   "source": [
    "plt.hist(data_dict_columns['Survived'])"
   ]
  },
  {
   "cell_type": "code",
   "execution_count": 99,
   "metadata": {},
   "outputs": [
    {
     "data": {
      "text/plain": [
       "(array([ 216.,    0.,    0.,    0.,    0.,  184.,    0.,    0.,    0.,  491.]),\n",
       " array([ 1. ,  1.2,  1.4,  1.6,  1.8,  2. ,  2.2,  2.4,  2.6,  2.8,  3. ]),\n",
       " <a list of 10 Patch objects>)"
      ]
     },
     "execution_count": 99,
     "metadata": {},
     "output_type": "execute_result"
    },
    {
     "data": {
      "image/png": "[encoded data removed]",
      "text/plain": [
       "<matplotlib.figure.Figure at 0x7f5c40a45e10>"
      ]
     },
     "metadata": {},
     "output_type": "display_data"
    }
   ],
   "source": [
    "plt.hist(data_dict_columns['Pclass'])"
   ]
  },
  {
   "cell_type": "markdown",
   "metadata": {},
   "source": [
    "### B) for each of these values, what's the 90% confidence interval of the population mean?\n",
    "\n",
    "* Create a function to find the confidence interval, and use it on each of the numeric columns.\n",
    "* What's your interpretation of the interval?"
   ]
  },
  {
   "cell_type": "code",
   "execution_count": 100,
   "metadata": {},
   "outputs": [
    {
     "name": "stdout",
     "output_type": "stream",
     "text": [
      "[(22.928213603444874, 869.0717863965549), (-0.4160857100118816, 1.1837624776886488), (0.93419910433719577, 3.6830848462800878), (nan, nan), (-1.2898255180672686, 2.3358412307496472), (-0.94350819849652856, 1.7066956283506247), (-49.488326497395349, 113.89674243454459)]\n",
      "['PassengerId', 'Survived', 'Pclass', 'Age', 'SibSp', 'Parch', 'Fare']\n"
     ]
    }
   ],
   "source": [
    "from scipy import stats\n",
    "import numpy as np\n",
    "confidence_int_list = []\n",
    "\n",
    "for i in numeric_cols:\n",
    "    data_col = data_dict_columns[i]\n",
    "    mean, std = np.mean(data_col), np.std(data_col)\n",
    "    confidence_int = stats.norm.interval(0.90, loc=mean, scale=std)\n",
    "    confidence_int_list.append(confidence_int)\n",
    "print(confidence_int_list)\n",
    "print(numeric_cols)"
   ]
  },
  {
   "cell_type": "markdown",
   "metadata": {},
   "source": [
    "1. PassengerId can be ignored.\n",
    "2. Survival rate varies between -0.4 and 1.18, which is an artifact of their categorical status. I kind of just like doing analysis of binary categorical variables, as it can be informative and cool.\n",
    "3. Age is suffering from the nans that are inside of it which, tbh, I can't decide what to do with. I'll probably take them out before I write my sunday paper.\n",
    "4. SibSp varies between -1.2 and 2.33, indicating a mean that's probably a bit higher in the 0-1 range, which makes sense. The high std is weird and due to people coming with either 6 siblings and 0 kids or 6 kids and 0 siblings or some combo in between.\n",
    "5. Parch is between -0.9 and 1.7, which is a much neater ranger due to the lower amount of potential parents and partners in a monogamous society. :P\n",
    "6. Fare varies heavily, due likely to aforementioned outliers but possibly just due to a block of people paying significantly more for more luxury."
   ]
  },
  {
   "cell_type": "markdown",
   "metadata": {},
   "source": [
    "# 13. Pandas"
   ]
  },
  {
   "cell_type": "markdown",
   "metadata": {},
   "source": [
    "### A: Load the titanic csv into a `DataFrame` using `pd.read_csv()`"
   ]
  },
  {
   "cell_type": "code",
   "execution_count": 74,
   "metadata": {},
   "outputs": [],
   "source": [
    "import pandas as pd"
   ]
  },
  {
   "cell_type": "code",
   "execution_count": 75,
   "metadata": {},
   "outputs": [],
   "source": [
    "titanic_df = pd.read_csv('titanic.csv')"
   ]
  },
  {
   "cell_type": "markdown",
   "metadata": {},
   "source": [
    "### B: Display the first 5 rows, the last 4 rows, and a sample of 3 rows."
   ]
  },
  {
   "cell_type": "code",
   "execution_count": 76,
   "metadata": {},
   "outputs": [
    {
     "name": "stdout",
     "output_type": "stream",
     "text": [
      "   PassengerId  Survived  Pclass  \\\n",
      "0            1         0       3   \n",
      "1            2         1       1   \n",
      "2            3         1       3   \n",
      "3            4         1       1   \n",
      "4            5         0       3   \n",
      "\n",
      "                                                Name     Sex   Age  SibSp  \\\n",
      "0                            Braund, Mr. Owen Harris    male  22.0      1   \n",
      "1  Cumings, Mrs. John Bradley (Florence Briggs Th...  female  38.0      1   \n",
      "2                             Heikkinen, Miss. Laina  female  26.0      0   \n",
      "3       Futrelle, Mrs. Jacques Heath (Lily May Peel)  female  35.0      1   \n",
      "4                           Allen, Mr. William Henry    male  35.0      0   \n",
      "\n",
      "   Parch            Ticket     Fare Cabin Embarked  \n",
      "0      0         A/5 21171   7.2500   NaN        S  \n",
      "1      0          PC 17599  71.2833   C85        C  \n",
      "2      0  STON/O2. 3101282   7.9250   NaN        S  \n",
      "3      0            113803  53.1000  C123        S  \n",
      "4      0            373450   8.0500   NaN        S  \n",
      "     PassengerId  Survived  Pclass                                      Name  \\\n",
      "887          888         1       1              Graham, Miss. Margaret Edith   \n",
      "888          889         0       3  Johnston, Miss. Catherine Helen \"Carrie\"   \n",
      "889          890         1       1                     Behr, Mr. Karl Howell   \n",
      "890          891         0       3                       Dooley, Mr. Patrick   \n",
      "\n",
      "        Sex   Age  SibSp  Parch      Ticket   Fare Cabin Embarked  \n",
      "887  female  19.0      0      0      112053  30.00   B42        S  \n",
      "888  female   NaN      1      2  W./C. 6607  23.45   NaN        S  \n",
      "889    male  26.0      0      0      111369  30.00  C148        C  \n",
      "890    male  32.0      0      0      370376   7.75   NaN        Q  \n",
      "     PassengerId  Survived  Pclass  \\\n",
      "523          524         1       1   \n",
      "829          830         1       1   \n",
      "612          613         1       3   \n",
      "\n",
      "                                                Name     Sex   Age  SibSp  \\\n",
      "523  Hippach, Mrs. Louis Albert (Ida Sophia Fischer)  female  44.0      0   \n",
      "829        Stone, Mrs. George Nelson (Martha Evelyn)  female  62.0      0   \n",
      "612                      Murphy, Miss. Margaret Jane  female   NaN      1   \n",
      "\n",
      "     Parch  Ticket     Fare Cabin Embarked  \n",
      "523      1  111361  57.9792   B18        C  \n",
      "829      0  113572  80.0000   B28      NaN  \n",
      "612      0  367230  15.5000   NaN        Q  \n"
     ]
    }
   ],
   "source": [
    "print(titanic_df.head())\n",
    "print(titanic_df.tail(4))\n",
    "print(titanic_df.sample(3))"
   ]
  },
  {
   "cell_type": "markdown",
   "metadata": {},
   "source": [
    "### C: Create a row mask that is `True` when `Pclass == 3`. Use this to mask your `DataFrame`. Find the mean of the `Survived` column. Is it the same as what we calculated in part 10?"
   ]
  },
  {
   "cell_type": "code",
   "execution_count": 77,
   "metadata": {},
   "outputs": [
    {
     "data": {
      "text/plain": [
       "Index(['PassengerId', 'Survived', 'Pclass', 'Name', 'Sex', 'Age', 'SibSp',\n",
       "       'Parch', 'Ticket', 'Fare', 'Cabin', 'Embarked'],\n",
       "      dtype='object')"
      ]
     },
     "execution_count": 77,
     "metadata": {},
     "output_type": "execute_result"
    }
   ],
   "source": [
    "titanic_df.columns"
   ]
  },
  {
   "cell_type": "code",
   "execution_count": 78,
   "metadata": {},
   "outputs": [
    {
     "data": {
      "text/plain": [
       "0.24236252545824846"
      ]
     },
     "execution_count": 78,
     "metadata": {},
     "output_type": "execute_result"
    }
   ],
   "source": [
    "pclass3_mask = titanic_df[\"Pclass\"] == 3\n",
    "maskedtitanic = titanic_df[pclass3_mask]\n",
    "maskedtitanic[\"Survived\"].mean()"
   ]
  },
  {
   "cell_type": "markdown",
   "metadata": {},
   "source": [
    "### D: Using a `.groupby()`, what is the mean of the survival column grouped by `Pclass` and `Sex`. What are your observations?"
   ]
  },
  {
   "cell_type": "code",
   "execution_count": 79,
   "metadata": {},
   "outputs": [
    {
     "data": {
      "text/plain": [
       "Pclass  Sex   \n",
       "1       female    0.968085\n",
       "        male      0.368852\n",
       "2       female    0.921053\n",
       "        male      0.157407\n",
       "3       female    0.500000\n",
       "        male      0.135447\n",
       "Name: Survived, dtype: float64"
      ]
     },
     "execution_count": 79,
     "metadata": {},
     "output_type": "execute_result"
    }
   ],
   "source": [
    "titanic_df.groupby(['Pclass', 'Sex'])['Survived'].mean()"
   ]
  },
  {
   "cell_type": "markdown",
   "metadata": {},
   "source": [
    "### E: Survival Rate by Age Range:  `pd.cut()` takes two arguments: A `list`, `Series`, or `array`, and a list of bins. Create a new column in your `DataFrame` using `pd.cut()` that groups your ages into bins of 5 years. Then, use `.groupby()` to display the survival rate and count for each age group"
   ]
  },
  {
   "cell_type": "code",
   "execution_count": 80,
   "metadata": {},
   "outputs": [
    {
     "data": {
      "text/plain": [
       "0    (20, 25]\n",
       "1    (35, 40]\n",
       "2    (25, 30]\n",
       "3    (30, 35]\n",
       "4    (30, 35]\n",
       "Name: Age Range, dtype: category\n",
       "Categories (15, object): [(0, 5] < (5, 10] < (10, 15] < (15, 20] ... (55, 60] < (60, 65] < (65, 70] < (70, 75]]"
      ]
     },
     "execution_count": 80,
     "metadata": {},
     "output_type": "execute_result"
    }
   ],
   "source": [
    "titanic_df[\"Age Range\"] = pd.cut(titanic_df[\"Age\"], range(0, 80, 5))\n",
    "titanic_df.columns\n",
    "titanic_df['Age Range'].head()"
   ]
  },
  {
   "cell_type": "markdown",
   "metadata": {},
   "source": [
    "# 14. Hypothesis Testing\n",
    "\n",
    "### A) Hypothesis:\n",
    "\n",
    "Create a null and alternate hypothesis to ask the following quesiton: Was the `Age` of survivors different from that of people who didn't survive?"
   ]
  },
  {
   "cell_type": "markdown",
   "metadata": {},
   "source": [
    "**Hypotheses:**\n",
    "\n",
    "$H_0$: There is no difference.\n",
    "\n",
    "$H_1$: There is a difference."
   ]
  },
  {
   "cell_type": "markdown",
   "metadata": {},
   "source": [
    "### B) T-Testing\n",
    "\n",
    "Use a t-test to test your null hypothesis. What's the p-value? What's your interpretation? Do you accept or reject your null hypothesis? What does this mean in terms of `Age`?"
   ]
  },
  {
   "cell_type": "code",
   "execution_count": 81,
   "metadata": {},
   "outputs": [],
   "source": [
    "ttest = stats.ttest_ind"
   ]
  },
  {
   "cell_type": "code",
   "execution_count": 83,
   "metadata": {},
   "outputs": [
    {
     "data": {
      "text/plain": [
       "0    0\n",
       "1    1\n",
       "2    1\n",
       "3    1\n",
       "4    0\n",
       "Name: Survived, dtype: int64"
      ]
     },
     "execution_count": 83,
     "metadata": {},
     "output_type": "execute_result"
    }
   ],
   "source": [
    "titanic_df['Survived'].head()"
   ]
  },
  {
   "cell_type": "code",
   "execution_count": 88,
   "metadata": {},
   "outputs": [
    {
     "data": {
      "text/plain": [
       "Ttest_indResult(statistic=-2.0666869462538102, pvalue=0.039124654013483327)"
      ]
     },
     "execution_count": 88,
     "metadata": {},
     "output_type": "execute_result"
    }
   ],
   "source": [
    "survived = titanic_df['Survived'] == 1\n",
    "didnot = titanic_df['Survived'] == 0\n",
    "maskedtitanicexp = titanic_df[survived]\n",
    "maskedtitaniccontrol = titanic_df[didnot]\n",
    "\n",
    "ttest(maskedtitanicexp['Age'], maskedtitaniccontrol['Age'], nan_policy = 'omit')"
   ]
  },
  {
   "cell_type": "markdown",
   "metadata": {},
   "source": [
    "The t-statistic is -2.066687, the p-value is 0.039. Because the latter is fairly low, I am inclined to say that there is a difference in age between those who survived and those who did not. I.e., those who survived tended to be younger by ~2 years, if I'm interpreting the t-statistic correctly."
   ]
  },
  {
   "cell_type": "markdown",
   "metadata": {},
   "source": [
    "# 15. Write-up\n",
    "\n",
    "Use markdown cells to answer the following questions:\n",
    "\n",
    "1. What is the main difference between a list and a tuple?\n",
    "2. Can you iterate over a dictionary? If so, how?\n",
    "3. What is the term for a list or array of `True` and `False` values used to select certain rows or columns in a `DataFrame`?\n",
    "4. If you have a continuous variable, when would the median be a better descriptor than the mean? Why?\n",
    "5. Give a qualitative description of the survivors of the titanic based on the effects of your splits in the data on survival rate. Or, given a row, what columns would you look at to guess if they survived?\n"
   ]
  },
  {
   "cell_type": "markdown",
   "metadata": {},
   "source": [
    "1. A list is alterable, a tuple isn't.\n",
    "2. Make a list of the keys, iterate over the keys, iterate over the dictionary by inserting the keys into it.\n",
    "3. A mask.\n",
    "4. If the mean is significantly different from the median, the data is probably skewed. In such a case the median more accurately reflects the true center of the data and thus is a better statistic to use in your analysis, especially when applying standard deviation to it.\n",
    "5. I would look at Female/Not, and Age. Women and children were allowed onto the life rafts more often, and older women and men would be more likely to die of cold. I can't actually give you a description based on the effects of my splits in the data because my code is too heavily looped to run for that section."
   ]
  },
  {
   "cell_type": "markdown",
   "metadata": {},
   "source": [
    "# 15. Evaluation\n",
    "\n",
    "Please use markdown cells to submit your responses. \n",
    "\n",
    "1. What was easy for you in this project?\n",
    "2. What was difficult?\n",
    "3. Where did you make the most improvement?\n",
    "4. Where would you like to improve?"
   ]
  },
  {
   "cell_type": "markdown",
   "metadata": {},
   "source": [
    "1. Generally speaking, I found the coding easy. I had previous experience and these problems weren't intellectually challenging, just repetitive until I purposely tried to make them tricky or elegant.\n",
    "2. I guess just timing, mostly. I've always tended to procrastinate even though I always have good intentions. I occasionally got trouble from AWS. I found the problems difficult but that's because I intentionally chose harder versions of them.\n",
    "3. I made the most improvement in my grasp of python, which I did not previously know.\n",
    "4. I would like a better understanding of np, pd, and stats. "
   ]
  },
  {
   "cell_type": "code",
   "execution_count": null,
   "metadata": {},
   "outputs": [],
   "source": []
  }
 ],
 "metadata": {
  "kernelspec": {
   "display_name": "Python 3",
   "language": "python",
   "name": "python3"
  },
  "language_info": {
   "codemirror_mode": {
    "name": "ipython",
    "version": 3
   },
   "file_extension": ".py",
   "mimetype": "text/x-python",
   "name": "python",
   "nbconvert_exporter": "python",
   "pygments_lexer": "ipython3",
   "version": "3.6.2"
  }
 },
 "nbformat": 4,
 "nbformat_minor": 2
}
